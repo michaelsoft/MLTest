{
 "cells": [
  {
   "cell_type": "code",
   "execution_count": 30,
   "metadata": {},
   "outputs": [],
   "source": [
    "import tensorflow as tf"
   ]
  },
  {
   "cell_type": "code",
   "execution_count": 31,
   "metadata": {},
   "outputs": [
    {
     "name": "stdout",
     "output_type": "stream",
     "text": [
      "Length of train data 25000, length of test data 25000.\n",
      "[1, 14, 22, 16, 43, 530, 973, 1622, 1385, 65, 458, 4468, 66, 3941, 4, 173, 36, 256, 5, 25, 100, 43, 838, 112, 50, 670, 2, 9, 35, 480, 284, 5, 150, 4, 172, 112, 167, 2, 336, 385, 39, 4, 172, 4536, 1111, 17, 546, 38, 13, 447, 4, 192, 50, 16, 6, 147, 2025, 19, 14, 22, 4, 1920, 4613, 469, 4, 22, 71, 87, 12, 16, 43, 530, 38, 76, 15, 13, 1247, 4, 22, 17, 515, 17, 12, 16, 626, 18, 2, 5, 62, 386, 12, 8, 316, 8, 106, 5, 4, 2223, 5244, 16, 480, 66, 3785, 33, 4, 130, 12, 16, 38, 619, 5, 25, 124, 51, 36, 135, 48, 25, 1415, 33, 6, 22, 12, 215, 28, 77, 52, 5, 14, 407, 16, 82, 2, 8, 4, 107, 117, 5952, 15, 256, 4, 2, 7, 3766, 5, 723, 36, 71, 43, 530, 476, 26, 400, 317, 46, 7, 4, 2, 1029, 13, 104, 88, 4, 381, 15, 297, 98, 32, 2071, 56, 26, 141, 6, 194, 7486, 18, 4, 226, 22, 21, 134, 476, 26, 480, 5, 144, 30, 5535, 18, 51, 36, 28, 224, 92, 25, 104, 4, 226, 65, 16, 38, 1334, 88, 12, 16, 283, 5, 16, 4472, 113, 103, 32, 15, 16, 5345, 19, 178, 32]\n"
     ]
    }
   ],
   "source": [
    "imdb = tf.keras.datasets.imdb\n",
    "(train_data, train_label), (test_data, test_label) = imdb.load_data(num_words=10000)\n",
    "print('Length of train data {}, length of test data {}.'.format(len(train_data), len(test_data)))\n",
    "print(train_data[0])"
   ]
  },
  {
   "cell_type": "code",
   "execution_count": 32,
   "metadata": {},
   "outputs": [],
   "source": [
    "# 一个映射单词到整数索引的词典\n",
    "word_index = imdb.get_word_index()\n",
    "\n",
    "# 保留第一个索引\n",
    "word_index = {k:(v+3) for k,v in word_index.items()}\n",
    "word_index[\"<PAD>\"] = 0\n",
    "word_index[\"<START>\"] = 1\n",
    "word_index[\"<UNK>\"] = 2  # unknown\n",
    "word_index[\"<UNUSED>\"] = 3\n",
    "\n",
    "reverse_word_index = dict([(value, key) for (key, value) in word_index.items()])\n",
    "\n",
    "def decode_review(text):\n",
    "    return ' '.join([reverse_word_index.get(i, '?') for i in text])"
   ]
  },
  {
   "cell_type": "code",
   "execution_count": 33,
   "metadata": {},
   "outputs": [
    {
     "data": {
      "text/plain": [
       "\"<START> this film was just brilliant casting location scenery story direction everyone's really suited the part they played and you could just imagine being there robert <UNK> is an amazing actor and now the same being director <UNK> father came from the same scottish island as myself so i loved the fact there was a real connection with this film the witty remarks throughout the film were great it was just brilliant so much that i bought the film as soon as it was released for <UNK> and would recommend it to everyone to watch and the fly fishing was amazing really cried at the end it was so sad and you know what they say if you cry at a film it must have been good and this definitely was also <UNK> to the two little boy's that played the <UNK> of norman and paul they were just brilliant children are often left out of the <UNK> list i think because the stars that play them all grown up are such a big profile for the whole film but these children are amazing and should be praised for what they have done don't you think the whole story was so lovely because it was true and was someone's life after all that was shared with us all\""
      ]
     },
     "execution_count": 33,
     "metadata": {},
     "output_type": "execute_result"
    }
   ],
   "source": [
    "decode_review(train_data[0])"
   ]
  },
  {
   "cell_type": "code",
   "execution_count": 34,
   "metadata": {},
   "outputs": [
    {
     "data": {
      "text/plain": [
       "(218, 189)"
      ]
     },
     "execution_count": 34,
     "metadata": {},
     "output_type": "execute_result"
    }
   ],
   "source": [
    "len(train_data[0]), len(train_data[1])"
   ]
  },
  {
   "cell_type": "code",
   "execution_count": 35,
   "metadata": {},
   "outputs": [],
   "source": [
    "train_data = tf.keras.preprocessing.sequence.pad_sequences(train_data,\n",
    "                                                        value=word_index[\"<PAD>\"],\n",
    "                                                        padding='post',\n",
    "                                                        maxlen=256)\n",
    "\n",
    "test_data = tf.keras.preprocessing.sequence.pad_sequences(test_data,\n",
    "                                                       value=word_index[\"<PAD>\"],\n",
    "                                                       padding='post',\n",
    "                                                       maxlen=256)"
   ]
  },
  {
   "cell_type": "code",
   "execution_count": 36,
   "metadata": {},
   "outputs": [
    {
     "data": {
      "text/plain": [
       "(256, 256)"
      ]
     },
     "execution_count": 36,
     "metadata": {},
     "output_type": "execute_result"
    }
   ],
   "source": [
    "len(train_data[0]), len(train_data[1])"
   ]
  },
  {
   "cell_type": "code",
   "execution_count": 37,
   "metadata": {},
   "outputs": [
    {
     "data": {
      "text/plain": [
       "array([   1,   14,   22,   16,   43,  530,  973, 1622, 1385,   65,  458,\n",
       "       4468,   66, 3941,    4,  173,   36,  256,    5,   25,  100,   43,\n",
       "        838,  112,   50,  670,    2,    9,   35,  480,  284,    5,  150,\n",
       "          4,  172,  112,  167,    2,  336,  385,   39,    4,  172, 4536,\n",
       "       1111,   17,  546,   38,   13,  447,    4,  192,   50,   16,    6,\n",
       "        147, 2025,   19,   14,   22,    4, 1920, 4613,  469,    4,   22,\n",
       "         71,   87,   12,   16,   43,  530,   38,   76,   15,   13, 1247,\n",
       "          4,   22,   17,  515,   17,   12,   16,  626,   18,    2,    5,\n",
       "         62,  386,   12,    8,  316,    8,  106,    5,    4, 2223, 5244,\n",
       "         16,  480,   66, 3785,   33,    4,  130,   12,   16,   38,  619,\n",
       "          5,   25,  124,   51,   36,  135,   48,   25, 1415,   33,    6,\n",
       "         22,   12,  215,   28,   77,   52,    5,   14,  407,   16,   82,\n",
       "          2,    8,    4,  107,  117, 5952,   15,  256,    4,    2,    7,\n",
       "       3766,    5,  723,   36,   71,   43,  530,  476,   26,  400,  317,\n",
       "         46,    7,    4,    2, 1029,   13,  104,   88,    4,  381,   15,\n",
       "        297,   98,   32, 2071,   56,   26,  141,    6,  194, 7486,   18,\n",
       "          4,  226,   22,   21,  134,  476,   26,  480,    5,  144,   30,\n",
       "       5535,   18,   51,   36,   28,  224,   92,   25,  104,    4,  226,\n",
       "         65,   16,   38, 1334,   88,   12,   16,  283,    5,   16, 4472,\n",
       "        113,  103,   32,   15,   16, 5345,   19,  178,   32,    0,    0,\n",
       "          0,    0,    0,    0,    0,    0,    0,    0,    0,    0,    0,\n",
       "          0,    0,    0,    0,    0,    0,    0,    0,    0,    0,    0,\n",
       "          0,    0,    0,    0,    0,    0,    0,    0,    0,    0,    0,\n",
       "          0,    0,    0])"
      ]
     },
     "execution_count": 37,
     "metadata": {},
     "output_type": "execute_result"
    }
   ],
   "source": [
    "train_data[0]"
   ]
  },
  {
   "cell_type": "code",
   "execution_count": 38,
   "metadata": {},
   "outputs": [
    {
     "name": "stdout",
     "output_type": "stream",
     "text": [
      "Model: \"sequential_1\"\n",
      "_________________________________________________________________\n",
      "Layer (type)                 Output Shape              Param #   \n",
      "=================================================================\n",
      "embedding_1 (Embedding)      (None, None, 16)          160000    \n",
      "_________________________________________________________________\n",
      "global_average_pooling1d_1 ( (None, 16)                0         \n",
      "_________________________________________________________________\n",
      "dense_2 (Dense)              (None, 16)                272       \n",
      "_________________________________________________________________\n",
      "dense_3 (Dense)              (None, 1)                 17        \n",
      "=================================================================\n",
      "Total params: 160,289\n",
      "Trainable params: 160,289\n",
      "Non-trainable params: 0\n",
      "_________________________________________________________________\n"
     ]
    }
   ],
   "source": [
    "vocab_size = 10000\n",
    "\n",
    "model = tf.keras.Sequential()\n",
    "model.add(tf.keras.layers.Embedding(vocab_size, 16))\n",
    "model.add(tf.keras.layers.GlobalAveragePooling1D())\n",
    "model.add(tf.keras.layers.Dense(16, activation='relu'))\n",
    "model.add(tf.keras.layers.Dense(1, activation='sigmoid'))\n",
    "\n",
    "model.summary()"
   ]
  },
  {
   "cell_type": "code",
   "execution_count": 39,
   "metadata": {},
   "outputs": [],
   "source": [
    "model.compile(optimizer='adam',\n",
    "              loss='binary_crossentropy',\n",
    "              metrics=['accuracy'])"
   ]
  },
  {
   "cell_type": "code",
   "execution_count": 40,
   "metadata": {},
   "outputs": [],
   "source": [
    "x_val = train_data[:10000]\n",
    "partial_x_train = train_data[10000:]\n",
    "\n",
    "y_val = train_label[:10000]\n",
    "partial_y_train = train_label[10000:]"
   ]
  },
  {
   "cell_type": "code",
   "execution_count": 41,
   "metadata": {},
   "outputs": [
    {
     "name": "stdout",
     "output_type": "stream",
     "text": [
      "Epoch 1/40\n",
      "30/30 [==============================] - 2s 61ms/step - loss: 0.6919 - accuracy: 0.5409 - val_loss: 0.6900 - val_accuracy: 0.6496\n",
      "Epoch 2/40\n",
      "30/30 [==============================] - 2s 60ms/step - loss: 0.6864 - accuracy: 0.7199 - val_loss: 0.6826 - val_accuracy: 0.7098\n",
      "Epoch 3/40\n",
      "30/30 [==============================] - 2s 56ms/step - loss: 0.6748 - accuracy: 0.7461 - val_loss: 0.6679 - val_accuracy: 0.7482\n",
      "Epoch 4/40\n",
      "30/30 [==============================] - 2s 55ms/step - loss: 0.6536 - accuracy: 0.7706 - val_loss: 0.6430 - val_accuracy: 0.7543\n",
      "Epoch 5/40\n",
      "30/30 [==============================] - 2s 55ms/step - loss: 0.6211 - accuracy: 0.7856 - val_loss: 0.6084 - val_accuracy: 0.7776\n",
      "Epoch 6/40\n",
      "30/30 [==============================] - 2s 61ms/step - loss: 0.5791 - accuracy: 0.8067 - val_loss: 0.5674 - val_accuracy: 0.7979\n",
      "Epoch 7/40\n",
      "30/30 [==============================] - 2s 63ms/step - loss: 0.5321 - accuracy: 0.8239 - val_loss: 0.5241 - val_accuracy: 0.8100\n",
      "Epoch 8/40\n",
      "30/30 [==============================] - 2s 60ms/step - loss: 0.4847 - accuracy: 0.8411 - val_loss: 0.4827 - val_accuracy: 0.8307\n",
      "Epoch 9/40\n",
      "30/30 [==============================] - 2s 61ms/step - loss: 0.4407 - accuracy: 0.8571 - val_loss: 0.4456 - val_accuracy: 0.8402\n",
      "Epoch 10/40\n",
      "30/30 [==============================] - 2s 65ms/step - loss: 0.4020 - accuracy: 0.8678 - val_loss: 0.4152 - val_accuracy: 0.8485\n",
      "Epoch 11/40\n",
      "30/30 [==============================] - 2s 61ms/step - loss: 0.3694 - accuracy: 0.8796 - val_loss: 0.3905 - val_accuracy: 0.8544\n",
      "Epoch 12/40\n",
      "30/30 [==============================] - 2s 53ms/step - loss: 0.3418 - accuracy: 0.8865 - val_loss: 0.3700 - val_accuracy: 0.8598\n",
      "Epoch 13/40\n",
      "30/30 [==============================] - 2s 65ms/step - loss: 0.3183 - accuracy: 0.8921 - val_loss: 0.3539 - val_accuracy: 0.8667\n",
      "Epoch 14/40\n",
      "30/30 [==============================] - 2s 56ms/step - loss: 0.2979 - accuracy: 0.8985 - val_loss: 0.3418 - val_accuracy: 0.8664\n",
      "Epoch 15/40\n",
      "30/30 [==============================] - 2s 60ms/step - loss: 0.2806 - accuracy: 0.9044 - val_loss: 0.3296 - val_accuracy: 0.8717\n",
      "Epoch 16/40\n",
      "30/30 [==============================] - 2s 50ms/step - loss: 0.2653 - accuracy: 0.9073 - val_loss: 0.3201 - val_accuracy: 0.8757\n",
      "Epoch 17/40\n",
      "30/30 [==============================] - 2s 55ms/step - loss: 0.2511 - accuracy: 0.9133 - val_loss: 0.3132 - val_accuracy: 0.8774\n",
      "Epoch 18/40\n",
      "30/30 [==============================] - 2s 53ms/step - loss: 0.2386 - accuracy: 0.9172 - val_loss: 0.3071 - val_accuracy: 0.8795\n",
      "Epoch 19/40\n",
      "30/30 [==============================] - 2s 56ms/step - loss: 0.2271 - accuracy: 0.9219 - val_loss: 0.3016 - val_accuracy: 0.8810\n",
      "Epoch 20/40\n",
      "30/30 [==============================] - 3s 116ms/step - loss: 0.2165 - accuracy: 0.9258 - val_loss: 0.2976 - val_accuracy: 0.8811\n",
      "Epoch 21/40\n",
      "30/30 [==============================] - 2s 62ms/step - loss: 0.2063 - accuracy: 0.9285 - val_loss: 0.2947 - val_accuracy: 0.8823\n",
      "Epoch 22/40\n",
      "30/30 [==============================] - 2s 60ms/step - loss: 0.1973 - accuracy: 0.9321 - val_loss: 0.2918 - val_accuracy: 0.8829\n",
      "Epoch 23/40\n",
      "30/30 [==============================] - 2s 71ms/step - loss: 0.1881 - accuracy: 0.9365 - val_loss: 0.2891 - val_accuracy: 0.8841\n",
      "Epoch 24/40\n",
      "30/30 [==============================] - 2s 56ms/step - loss: 0.1796 - accuracy: 0.9405 - val_loss: 0.2878 - val_accuracy: 0.8841\n",
      "Epoch 25/40\n",
      "30/30 [==============================] - 2s 52ms/step - loss: 0.1723 - accuracy: 0.9431 - val_loss: 0.2887 - val_accuracy: 0.8845\n",
      "Epoch 26/40\n",
      "30/30 [==============================] - 2s 70ms/step - loss: 0.1648 - accuracy: 0.9467 - val_loss: 0.2874 - val_accuracy: 0.8839\n",
      "Epoch 27/40\n",
      "30/30 [==============================] - 2s 66ms/step - loss: 0.1578 - accuracy: 0.9501 - val_loss: 0.2860 - val_accuracy: 0.8852\n",
      "Epoch 28/40\n",
      "30/30 [==============================] - 2s 64ms/step - loss: 0.1513 - accuracy: 0.9530 - val_loss: 0.2866 - val_accuracy: 0.8859\n",
      "Epoch 29/40\n",
      "30/30 [==============================] - 2s 64ms/step - loss: 0.1449 - accuracy: 0.9551 - val_loss: 0.2869 - val_accuracy: 0.8863\n",
      "Epoch 30/40\n",
      "30/30 [==============================] - 2s 68ms/step - loss: 0.1390 - accuracy: 0.9573 - val_loss: 0.2890 - val_accuracy: 0.8854\n",
      "Epoch 31/40\n",
      "30/30 [==============================] - 2s 72ms/step - loss: 0.1336 - accuracy: 0.9594 - val_loss: 0.2892 - val_accuracy: 0.88660.1340 - ac\n",
      "Epoch 32/40\n",
      "30/30 [==============================] - 2s 75ms/step - loss: 0.1283 - accuracy: 0.9623 - val_loss: 0.2913 - val_accuracy: 0.8855\n",
      "Epoch 33/40\n",
      "30/30 [==============================] - 2s 74ms/step - loss: 0.1232 - accuracy: 0.9642 - val_loss: 0.2935 - val_accuracy: 0.8851\n",
      "Epoch 34/40\n",
      "30/30 [==============================] - 2s 72ms/step - loss: 0.1185 - accuracy: 0.9664 - val_loss: 0.2951 - val_accuracy: 0.8855\n",
      "Epoch 35/40\n",
      "30/30 [==============================] - 2s 76ms/step - loss: 0.1135 - accuracy: 0.9681 - val_loss: 0.2973 - val_accuracy: 0.8855\n",
      "Epoch 36/40\n",
      "30/30 [==============================] - 2s 81ms/step - loss: 0.1096 - accuracy: 0.9690 - val_loss: 0.3013 - val_accuracy: 0.8840\n",
      "Epoch 37/40\n",
      "30/30 [==============================] - 2s 78ms/step - loss: 0.1051 - accuracy: 0.9712 - val_loss: 0.3036 - val_accuracy: 0.8844\n",
      "Epoch 38/40\n",
      "30/30 [==============================] - 2s 71ms/step - loss: 0.1008 - accuracy: 0.9724 - val_loss: 0.3052 - val_accuracy: 0.8848\n",
      "Epoch 39/40\n",
      "30/30 [==============================] - 2s 78ms/step - loss: 0.0968 - accuracy: 0.9736 - val_loss: 0.3088 - val_accuracy: 0.8830\n",
      "Epoch 40/40\n",
      "30/30 [==============================] - 2s 80ms/step - loss: 0.0929 - accuracy: 0.9753 - val_loss: 0.3118 - val_accuracy: 0.8832\n"
     ]
    }
   ],
   "source": [
    "history = model.fit(partial_x_train,\n",
    "                    partial_y_train,\n",
    "                    epochs=40,\n",
    "                    batch_size=512,\n",
    "                    validation_data=(x_val, y_val),\n",
    "                    verbose=1)"
   ]
  },
  {
   "cell_type": "code",
   "execution_count": 42,
   "metadata": {},
   "outputs": [
    {
     "name": "stdout",
     "output_type": "stream",
     "text": [
      "782/782 - 1s - loss: 0.3318 - accuracy: 0.8730\n"
     ]
    },
    {
     "data": {
      "text/plain": [
       "[0.33182644844055176, 0.8730000257492065]"
      ]
     },
     "execution_count": 42,
     "metadata": {},
     "output_type": "execute_result"
    }
   ],
   "source": [
    "model.evaluate(test_data, test_label, verbose=2)"
   ]
  },
  {
   "cell_type": "code",
   "execution_count": 44,
   "metadata": {},
   "outputs": [],
   "source": [
    "import matplotlib.pyplot as plt\n",
    "%matplotlib inline"
   ]
  },
  {
   "cell_type": "code",
   "execution_count": 62,
   "metadata": {},
   "outputs": [
    {
     "data": {
      "image/png": "[encoded data removed]",
      "text/plain": [
       "<Figure size 432x288 with 1 Axes>"
      ]
     },
     "metadata": {
      "needs_background": "light"
     },
     "output_type": "display_data"
    }
   ],
   "source": [
    "plt.plot(history.epoch, history.history['loss'])\n",
    "plt.show()"
   ]
  },
  {
   "cell_type": "code",
   "execution_count": 64,
   "metadata": {},
   "outputs": [
    {
     "data": {
      "image/png": "[encoded data removed]",
      "text/plain": [
       "<Figure size 432x288 with 1 Axes>"
      ]
     },
     "metadata": {
      "needs_background": "light"
     },
     "output_type": "display_data"
    }
   ],
   "source": [
    "plt.plot(history.epoch, history.history['accuracy'])\n",
    "plt.show()"
   ]
  },
  {
   "cell_type": "code",
   "execution_count": 67,
   "metadata": {},
   "outputs": [
    {
     "data": {
      "text/plain": [
       "dict_keys(['loss', 'accuracy', 'val_loss', 'val_accuracy'])"
      ]
     },
     "execution_count": 67,
     "metadata": {},
     "output_type": "execute_result"
    }
   ],
   "source": [
    "history.history.keys()"
   ]
  },
  {
   "cell_type": "code",
   "execution_count": null,
   "metadata": {},
   "outputs": [],
   "source": []
  }
 ],
 "metadata": {
  "kernelspec": {
   "display_name": "tensorflow",
   "language": "python",
   "name": "tensorflow"
  },
  "language_info": {
   "codemirror_mode": {
    "name": "ipython",
    "version": 3
   },
   "file_extension": ".py",
   "mimetype": "text/x-python",
   "name": "python",
   "nbconvert_exporter": "python",
   "pygments_lexer": "ipython3",
   "version": "3.8.5"
  }
 },
 "nbformat": 4,
 "nbformat_minor": 4
}
